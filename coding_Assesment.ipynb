{
 "cells": [
  {
   "cell_type": "code",
   "execution_count": 1,
   "metadata": {},
   "outputs": [],
   "source": [
    "import tensorflow as tf\n",
    "from tensorflow.keras.datasets import imdb\n",
    "from tensorflow.keras.models import Sequential\n",
    "from tensorflow.keras.layers import Dense\n",
    "from tensorflow.keras.layers import LSTM\n",
    "from tensorflow.keras.layers import Embedding\n",
    "from tensorflow.keras.preprocessing import sequence"
   ]
  },
  {
   "cell_type": "code",
   "execution_count": 2,
   "metadata": {},
   "outputs": [],
   "source": [
    "from sklearn.model_selection import train_test_split\n",
    "from tensorflow.keras.preprocessing.text import Tokenizer\n",
    "from tensorflow.keras.preprocessing.sequence import pad_sequences\n",
    "from tensorflow.keras.models import Sequential\n",
    "\n"
   ]
  },
  {
   "cell_type": "code",
   "execution_count": 3,
   "metadata": {},
   "outputs": [],
   "source": [
    "import pandas as pd"
   ]
  },
  {
   "cell_type": "code",
   "execution_count": 5,
   "metadata": {},
   "outputs": [],
   "source": [
    "import numpy as np"
   ]
  },
  {
   "cell_type": "code",
   "execution_count": 6,
   "metadata": {},
   "outputs": [],
   "source": [
    "df=pd.read_csv(r\"C:\\Users\\aswin\\Downloads\\train (1).csv\")"
   ]
  },
  {
   "cell_type": "code",
   "execution_count": 7,
   "metadata": {},
   "outputs": [
    {
     "data": {
      "text/html": [
       "<div>\n",
       "<style scoped>\n",
       "    .dataframe tbody tr th:only-of-type {\n",
       "        vertical-align: middle;\n",
       "    }\n",
       "\n",
       "    .dataframe tbody tr th {\n",
       "        vertical-align: top;\n",
       "    }\n",
       "\n",
       "    .dataframe thead th {\n",
       "        text-align: right;\n",
       "    }\n",
       "</style>\n",
       "<table border=\"1\" class=\"dataframe\">\n",
       "  <thead>\n",
       "    <tr style=\"text-align: right;\">\n",
       "      <th></th>\n",
       "      <th>Tweets</th>\n",
       "      <th>label</th>\n",
       "    </tr>\n",
       "  </thead>\n",
       "  <tbody>\n",
       "    <tr>\n",
       "      <th>0</th>\n",
       "      <td>Asked #ChatGPT about what it thinks are the pr...</td>\n",
       "      <td>Positive</td>\n",
       "    </tr>\n",
       "    <tr>\n",
       "      <th>1</th>\n",
       "      <td>#ChatGPT tornado has already traveled around t...</td>\n",
       "      <td>Neutral</td>\n",
       "    </tr>\n",
       "    <tr>\n",
       "      <th>2</th>\n",
       "      <td>This is a great explanation of why #EVs are mo...</td>\n",
       "      <td>Positive</td>\n",
       "    </tr>\n",
       "    <tr>\n",
       "      <th>3</th>\n",
       "      <td>‘if you need to write a box-ticking social med...</td>\n",
       "      <td>Positive</td>\n",
       "    </tr>\n",
       "    <tr>\n",
       "      <th>4</th>\n",
       "      <td>Just saw an AI tool making my coffee for me. \\...</td>\n",
       "      <td>Positive</td>\n",
       "    </tr>\n",
       "    <tr>\n",
       "      <th>...</th>\n",
       "      <td>...</td>\n",
       "      <td>...</td>\n",
       "    </tr>\n",
       "    <tr>\n",
       "      <th>765</th>\n",
       "      <td>NaN</td>\n",
       "      <td>NaN</td>\n",
       "    </tr>\n",
       "    <tr>\n",
       "      <th>766</th>\n",
       "      <td>NaN</td>\n",
       "      <td>NaN</td>\n",
       "    </tr>\n",
       "    <tr>\n",
       "      <th>767</th>\n",
       "      <td>NaN</td>\n",
       "      <td>NaN</td>\n",
       "    </tr>\n",
       "    <tr>\n",
       "      <th>768</th>\n",
       "      <td>NaN</td>\n",
       "      <td>NaN</td>\n",
       "    </tr>\n",
       "    <tr>\n",
       "      <th>769</th>\n",
       "      <td>NaN</td>\n",
       "      <td>NaN</td>\n",
       "    </tr>\n",
       "  </tbody>\n",
       "</table>\n",
       "<p>770 rows × 2 columns</p>\n",
       "</div>"
      ],
      "text/plain": [
       "                                                Tweets     label\n",
       "0    Asked #ChatGPT about what it thinks are the pr...  Positive\n",
       "1    #ChatGPT tornado has already traveled around t...   Neutral\n",
       "2    This is a great explanation of why #EVs are mo...  Positive\n",
       "3    ‘if you need to write a box-ticking social med...  Positive\n",
       "4    Just saw an AI tool making my coffee for me. \\...  Positive\n",
       "..                                                 ...       ...\n",
       "765                                                NaN       NaN\n",
       "766                                                NaN       NaN\n",
       "767                                                NaN       NaN\n",
       "768                                                NaN       NaN\n",
       "769                                                NaN       NaN\n",
       "\n",
       "[770 rows x 2 columns]"
      ]
     },
     "execution_count": 7,
     "metadata": {},
     "output_type": "execute_result"
    }
   ],
   "source": [
    "df"
   ]
  },
  {
   "cell_type": "code",
   "execution_count": 8,
   "metadata": {},
   "outputs": [
    {
     "data": {
      "text/html": [
       "<div>\n",
       "<style scoped>\n",
       "    .dataframe tbody tr th:only-of-type {\n",
       "        vertical-align: middle;\n",
       "    }\n",
       "\n",
       "    .dataframe tbody tr th {\n",
       "        vertical-align: top;\n",
       "    }\n",
       "\n",
       "    .dataframe thead th {\n",
       "        text-align: right;\n",
       "    }\n",
       "</style>\n",
       "<table border=\"1\" class=\"dataframe\">\n",
       "  <thead>\n",
       "    <tr style=\"text-align: right;\">\n",
       "      <th></th>\n",
       "      <th>Tweets</th>\n",
       "      <th>label</th>\n",
       "    </tr>\n",
       "  </thead>\n",
       "  <tbody>\n",
       "    <tr>\n",
       "      <th>0</th>\n",
       "      <td>Asked #ChatGPT about what it thinks are the pr...</td>\n",
       "      <td>Positive</td>\n",
       "    </tr>\n",
       "    <tr>\n",
       "      <th>1</th>\n",
       "      <td>#ChatGPT tornado has already traveled around t...</td>\n",
       "      <td>Neutral</td>\n",
       "    </tr>\n",
       "    <tr>\n",
       "      <th>2</th>\n",
       "      <td>This is a great explanation of why #EVs are mo...</td>\n",
       "      <td>Positive</td>\n",
       "    </tr>\n",
       "    <tr>\n",
       "      <th>3</th>\n",
       "      <td>‘if you need to write a box-ticking social med...</td>\n",
       "      <td>Positive</td>\n",
       "    </tr>\n",
       "    <tr>\n",
       "      <th>4</th>\n",
       "      <td>Just saw an AI tool making my coffee for me. \\...</td>\n",
       "      <td>Positive</td>\n",
       "    </tr>\n",
       "    <tr>\n",
       "      <th>5</th>\n",
       "      <td>Do I trust #chatgpt to write bug free code?\\n\\...</td>\n",
       "      <td>Negative</td>\n",
       "    </tr>\n",
       "    <tr>\n",
       "      <th>6</th>\n",
       "      <td>Tonight a friend wondered about a science topi...</td>\n",
       "      <td>Positive</td>\n",
       "    </tr>\n",
       "    <tr>\n",
       "      <th>7</th>\n",
       "      <td>The rise and popularity of ChatGPT do signal a...</td>\n",
       "      <td>Positive</td>\n",
       "    </tr>\n",
       "    <tr>\n",
       "      <th>8</th>\n",
       "      <td>ChatGPT may not replace programmers but it did...</td>\n",
       "      <td>Positive</td>\n",
       "    </tr>\n",
       "    <tr>\n",
       "      <th>9</th>\n",
       "      <td>1.4 billion people's work lives are about to c...</td>\n",
       "      <td>Negative</td>\n",
       "    </tr>\n",
       "  </tbody>\n",
       "</table>\n",
       "</div>"
      ],
      "text/plain": [
       "                                              Tweets     label\n",
       "0  Asked #ChatGPT about what it thinks are the pr...  Positive\n",
       "1  #ChatGPT tornado has already traveled around t...   Neutral\n",
       "2  This is a great explanation of why #EVs are mo...  Positive\n",
       "3  ‘if you need to write a box-ticking social med...  Positive\n",
       "4  Just saw an AI tool making my coffee for me. \\...  Positive\n",
       "5  Do I trust #chatgpt to write bug free code?\\n\\...  Negative\n",
       "6  Tonight a friend wondered about a science topi...  Positive\n",
       "7  The rise and popularity of ChatGPT do signal a...  Positive\n",
       "8  ChatGPT may not replace programmers but it did...  Positive\n",
       "9  1.4 billion people's work lives are about to c...  Negative"
      ]
     },
     "execution_count": 8,
     "metadata": {},
     "output_type": "execute_result"
    }
   ],
   "source": [
    "df.head(10)"
   ]
  },
  {
   "cell_type": "code",
   "execution_count": 11,
   "metadata": {},
   "outputs": [],
   "source": [
    "df2=df.dropna()"
   ]
  },
  {
   "cell_type": "code",
   "execution_count": 15,
   "metadata": {},
   "outputs": [
    {
     "data": {
      "text/plain": [
       "Tweets    171\n",
       "label     171\n",
       "dtype: int64"
      ]
     },
     "execution_count": 15,
     "metadata": {},
     "output_type": "execute_result"
    }
   ],
   "source": [
    "df.isnull().sum()"
   ]
  },
  {
   "cell_type": "code",
   "execution_count": 12,
   "metadata": {},
   "outputs": [
    {
     "data": {
      "text/html": [
       "<div>\n",
       "<style scoped>\n",
       "    .dataframe tbody tr th:only-of-type {\n",
       "        vertical-align: middle;\n",
       "    }\n",
       "\n",
       "    .dataframe tbody tr th {\n",
       "        vertical-align: top;\n",
       "    }\n",
       "\n",
       "    .dataframe thead th {\n",
       "        text-align: right;\n",
       "    }\n",
       "</style>\n",
       "<table border=\"1\" class=\"dataframe\">\n",
       "  <thead>\n",
       "    <tr style=\"text-align: right;\">\n",
       "      <th></th>\n",
       "      <th>Tweets</th>\n",
       "      <th>label</th>\n",
       "    </tr>\n",
       "  </thead>\n",
       "  <tbody>\n",
       "    <tr>\n",
       "      <th>0</th>\n",
       "      <td>Asked #ChatGPT about what it thinks are the pr...</td>\n",
       "      <td>Positive</td>\n",
       "    </tr>\n",
       "    <tr>\n",
       "      <th>1</th>\n",
       "      <td>#ChatGPT tornado has already traveled around t...</td>\n",
       "      <td>Neutral</td>\n",
       "    </tr>\n",
       "    <tr>\n",
       "      <th>2</th>\n",
       "      <td>This is a great explanation of why #EVs are mo...</td>\n",
       "      <td>Positive</td>\n",
       "    </tr>\n",
       "    <tr>\n",
       "      <th>3</th>\n",
       "      <td>‘if you need to write a box-ticking social med...</td>\n",
       "      <td>Positive</td>\n",
       "    </tr>\n",
       "    <tr>\n",
       "      <th>4</th>\n",
       "      <td>Just saw an AI tool making my coffee for me. \\...</td>\n",
       "      <td>Positive</td>\n",
       "    </tr>\n",
       "    <tr>\n",
       "      <th>...</th>\n",
       "      <td>...</td>\n",
       "      <td>...</td>\n",
       "    </tr>\n",
       "    <tr>\n",
       "      <th>594</th>\n",
       "      <td>4. GPT’s AI capabilities are also more accessi...</td>\n",
       "      <td>Positive</td>\n",
       "    </tr>\n",
       "    <tr>\n",
       "      <th>595</th>\n",
       "      <td>3. KeyboardX also provides a more secure envir...</td>\n",
       "      <td>Positive</td>\n",
       "    </tr>\n",
       "    <tr>\n",
       "      <th>596</th>\n",
       "      <td>2. KeyboardX allows users to quickly and easil...</td>\n",
       "      <td>Positive</td>\n",
       "    </tr>\n",
       "    <tr>\n",
       "      <th>597</th>\n",
       "      <td>I asked ChatGPT why the app I’m working on, Ke...</td>\n",
       "      <td>Positive</td>\n",
       "    </tr>\n",
       "    <tr>\n",
       "      <th>598</th>\n",
       "      <td>There's been a lot of talk about AI engines an...</td>\n",
       "      <td>Positive</td>\n",
       "    </tr>\n",
       "  </tbody>\n",
       "</table>\n",
       "<p>599 rows × 2 columns</p>\n",
       "</div>"
      ],
      "text/plain": [
       "                                                Tweets     label\n",
       "0    Asked #ChatGPT about what it thinks are the pr...  Positive\n",
       "1    #ChatGPT tornado has already traveled around t...   Neutral\n",
       "2    This is a great explanation of why #EVs are mo...  Positive\n",
       "3    ‘if you need to write a box-ticking social med...  Positive\n",
       "4    Just saw an AI tool making my coffee for me. \\...  Positive\n",
       "..                                                 ...       ...\n",
       "594  4. GPT’s AI capabilities are also more accessi...  Positive\n",
       "595  3. KeyboardX also provides a more secure envir...  Positive\n",
       "596  2. KeyboardX allows users to quickly and easil...  Positive\n",
       "597  I asked ChatGPT why the app I’m working on, Ke...  Positive\n",
       "598  There's been a lot of talk about AI engines an...  Positive\n",
       "\n",
       "[599 rows x 2 columns]"
      ]
     },
     "execution_count": 12,
     "metadata": {},
     "output_type": "execute_result"
    }
   ],
   "source": [
    "df2"
   ]
  },
  {
   "cell_type": "code",
   "execution_count": 14,
   "metadata": {},
   "outputs": [
    {
     "data": {
      "text/plain": [
       "Tweets    0\n",
       "label     0\n",
       "dtype: int64"
      ]
     },
     "execution_count": 14,
     "metadata": {},
     "output_type": "execute_result"
    }
   ],
   "source": [
    "df2.isnull().sum()"
   ]
  },
  {
   "cell_type": "code",
   "execution_count": 18,
   "metadata": {},
   "outputs": [
    {
     "data": {
      "text/plain": [
       "array(['Positive', 'Neutral', 'Negative'], dtype=object)"
      ]
     },
     "execution_count": 18,
     "metadata": {},
     "output_type": "execute_result"
    }
   ],
   "source": [
    "df2['label'].unique()"
   ]
  },
  {
   "cell_type": "code",
   "execution_count": 20,
   "metadata": {},
   "outputs": [
    {
     "data": {
      "text/plain": [
       "Positive    378\n",
       "Negative    143\n",
       "Neutral      78\n",
       "Name: label, dtype: int64"
      ]
     },
     "execution_count": 20,
     "metadata": {},
     "output_type": "execute_result"
    }
   ],
   "source": [
    "df2['label'].value_counts()"
   ]
  },
  {
   "cell_type": "code",
   "execution_count": 22,
   "metadata": {},
   "outputs": [],
   "source": [
    "for i in df2['Tweets']:\n",
    "    df3=re.sub(r'[^a-zA-Z0-9\\s]', '', i)"
   ]
  },
  {
   "cell_type": "code",
   "execution_count": 23,
   "metadata": {},
   "outputs": [
    {
     "data": {
      "text/plain": [
       "'Theres been a lot of talk about AI engines and how they may or may not be used in newsrooms newsletters marketing and other informationbased services in the coming months and years Conversations about ChatGPT and other autlnkdingiPeGkz lnkdingS86ui7y'"
      ]
     },
     "execution_count": 23,
     "metadata": {},
     "output_type": "execute_result"
    }
   ],
   "source": [
    "df3"
   ]
  },
  {
   "cell_type": "code",
   "execution_count": 25,
   "metadata": {},
   "outputs": [
    {
     "name": "stderr",
     "output_type": "stream",
     "text": [
      "C:\\Users\\aswin\\AppData\\Local\\Temp\\ipykernel_27596\\1197340680.py:5: SettingWithCopyWarning: \n",
      "A value is trying to be set on a copy of a slice from a DataFrame.\n",
      "Try using .loc[row_indexer,col_indexer] = value instead\n",
      "\n",
      "See the caveats in the documentation: https://pandas.pydata.org/pandas-docs/stable/user_guide/indexing.html#returning-a-view-versus-a-copy\n",
      "  df2['cleaned_statement'] = df2['Tweets'].apply(lambda x: re.sub(r'[^\\w\\s]', '', x))\n"
     ]
    },
    {
     "data": {
      "text/html": [
       "<div>\n",
       "<style scoped>\n",
       "    .dataframe tbody tr th:only-of-type {\n",
       "        vertical-align: middle;\n",
       "    }\n",
       "\n",
       "    .dataframe tbody tr th {\n",
       "        vertical-align: top;\n",
       "    }\n",
       "\n",
       "    .dataframe thead th {\n",
       "        text-align: right;\n",
       "    }\n",
       "</style>\n",
       "<table border=\"1\" class=\"dataframe\">\n",
       "  <thead>\n",
       "    <tr style=\"text-align: right;\">\n",
       "      <th></th>\n",
       "      <th>Tweets</th>\n",
       "      <th>label</th>\n",
       "      <th>cleaned_statement</th>\n",
       "    </tr>\n",
       "  </thead>\n",
       "  <tbody>\n",
       "    <tr>\n",
       "      <th>0</th>\n",
       "      <td>Asked #ChatGPT about what it thinks are the pr...</td>\n",
       "      <td>Positive</td>\n",
       "      <td>Asked ChatGPT about what it thinks are the pro...</td>\n",
       "    </tr>\n",
       "    <tr>\n",
       "      <th>1</th>\n",
       "      <td>#ChatGPT tornado has already traveled around t...</td>\n",
       "      <td>Neutral</td>\n",
       "      <td>ChatGPT tornado has already traveled around th...</td>\n",
       "    </tr>\n",
       "    <tr>\n",
       "      <th>2</th>\n",
       "      <td>This is a great explanation of why #EVs are mo...</td>\n",
       "      <td>Positive</td>\n",
       "      <td>This is a great explanation of why EVs are mor...</td>\n",
       "    </tr>\n",
       "    <tr>\n",
       "      <th>3</th>\n",
       "      <td>‘if you need to write a box-ticking social med...</td>\n",
       "      <td>Positive</td>\n",
       "      <td>if you need to write a boxticking social media...</td>\n",
       "    </tr>\n",
       "    <tr>\n",
       "      <th>4</th>\n",
       "      <td>Just saw an AI tool making my coffee for me. \\...</td>\n",
       "      <td>Positive</td>\n",
       "      <td>Just saw an AI tool making my coffee for me \\n...</td>\n",
       "    </tr>\n",
       "  </tbody>\n",
       "</table>\n",
       "</div>"
      ],
      "text/plain": [
       "                                              Tweets     label  \\\n",
       "0  Asked #ChatGPT about what it thinks are the pr...  Positive   \n",
       "1  #ChatGPT tornado has already traveled around t...   Neutral   \n",
       "2  This is a great explanation of why #EVs are mo...  Positive   \n",
       "3  ‘if you need to write a box-ticking social med...  Positive   \n",
       "4  Just saw an AI tool making my coffee for me. \\...  Positive   \n",
       "\n",
       "                                   cleaned_statement  \n",
       "0  Asked ChatGPT about what it thinks are the pro...  \n",
       "1  ChatGPT tornado has already traveled around th...  \n",
       "2  This is a great explanation of why EVs are mor...  \n",
       "3  if you need to write a boxticking social media...  \n",
       "4  Just saw an AI tool making my coffee for me \\n...  "
      ]
     },
     "execution_count": 25,
     "metadata": {},
     "output_type": "execute_result"
    }
   ],
   "source": [
    "import re\n",
    "df2['cleaned_statement'] = df2['Tweets'].apply(lambda x: re.sub(r'[^\\w\\s]', '', x))\n",
    "df2.head()\n"
   ]
  },
  {
   "cell_type": "code",
   "execution_count": 26,
   "metadata": {},
   "outputs": [],
   "source": [
    "df3=df2.drop(['Tweets'],axis=1)"
   ]
  },
  {
   "cell_type": "code",
   "execution_count": 27,
   "metadata": {},
   "outputs": [
    {
     "data": {
      "text/html": [
       "<div>\n",
       "<style scoped>\n",
       "    .dataframe tbody tr th:only-of-type {\n",
       "        vertical-align: middle;\n",
       "    }\n",
       "\n",
       "    .dataframe tbody tr th {\n",
       "        vertical-align: top;\n",
       "    }\n",
       "\n",
       "    .dataframe thead th {\n",
       "        text-align: right;\n",
       "    }\n",
       "</style>\n",
       "<table border=\"1\" class=\"dataframe\">\n",
       "  <thead>\n",
       "    <tr style=\"text-align: right;\">\n",
       "      <th></th>\n",
       "      <th>label</th>\n",
       "      <th>cleaned_statement</th>\n",
       "    </tr>\n",
       "  </thead>\n",
       "  <tbody>\n",
       "    <tr>\n",
       "      <th>0</th>\n",
       "      <td>Positive</td>\n",
       "      <td>Asked ChatGPT about what it thinks are the pro...</td>\n",
       "    </tr>\n",
       "    <tr>\n",
       "      <th>1</th>\n",
       "      <td>Neutral</td>\n",
       "      <td>ChatGPT tornado has already traveled around th...</td>\n",
       "    </tr>\n",
       "    <tr>\n",
       "      <th>2</th>\n",
       "      <td>Positive</td>\n",
       "      <td>This is a great explanation of why EVs are mor...</td>\n",
       "    </tr>\n",
       "    <tr>\n",
       "      <th>3</th>\n",
       "      <td>Positive</td>\n",
       "      <td>if you need to write a boxticking social media...</td>\n",
       "    </tr>\n",
       "    <tr>\n",
       "      <th>4</th>\n",
       "      <td>Positive</td>\n",
       "      <td>Just saw an AI tool making my coffee for me \\n...</td>\n",
       "    </tr>\n",
       "    <tr>\n",
       "      <th>...</th>\n",
       "      <td>...</td>\n",
       "      <td>...</td>\n",
       "    </tr>\n",
       "    <tr>\n",
       "      <th>594</th>\n",
       "      <td>Positive</td>\n",
       "      <td>4 GPTs AI capabilities are also more accessibl...</td>\n",
       "    </tr>\n",
       "    <tr>\n",
       "      <th>595</th>\n",
       "      <td>Positive</td>\n",
       "      <td>3 KeyboardX also provides a more secure enviro...</td>\n",
       "    </tr>\n",
       "    <tr>\n",
       "      <th>596</th>\n",
       "      <td>Positive</td>\n",
       "      <td>2 KeyboardX allows users to quickly and easily...</td>\n",
       "    </tr>\n",
       "    <tr>\n",
       "      <th>597</th>\n",
       "      <td>Positive</td>\n",
       "      <td>I asked ChatGPT why the app Im working on Keyb...</td>\n",
       "    </tr>\n",
       "    <tr>\n",
       "      <th>598</th>\n",
       "      <td>Positive</td>\n",
       "      <td>Theres been a lot of talk about AI engines and...</td>\n",
       "    </tr>\n",
       "  </tbody>\n",
       "</table>\n",
       "<p>599 rows × 2 columns</p>\n",
       "</div>"
      ],
      "text/plain": [
       "        label                                  cleaned_statement\n",
       "0    Positive  Asked ChatGPT about what it thinks are the pro...\n",
       "1     Neutral  ChatGPT tornado has already traveled around th...\n",
       "2    Positive  This is a great explanation of why EVs are mor...\n",
       "3    Positive  if you need to write a boxticking social media...\n",
       "4    Positive  Just saw an AI tool making my coffee for me \\n...\n",
       "..        ...                                                ...\n",
       "594  Positive  4 GPTs AI capabilities are also more accessibl...\n",
       "595  Positive  3 KeyboardX also provides a more secure enviro...\n",
       "596  Positive  2 KeyboardX allows users to quickly and easily...\n",
       "597  Positive  I asked ChatGPT why the app Im working on Keyb...\n",
       "598  Positive  Theres been a lot of talk about AI engines and...\n",
       "\n",
       "[599 rows x 2 columns]"
      ]
     },
     "execution_count": 27,
     "metadata": {},
     "output_type": "execute_result"
    }
   ],
   "source": [
    "df3"
   ]
  },
  {
   "cell_type": "code",
   "execution_count": 28,
   "metadata": {},
   "outputs": [
    {
     "data": {
      "text/plain": [
       "0"
      ]
     },
     "execution_count": 28,
     "metadata": {},
     "output_type": "execute_result"
    }
   ],
   "source": [
    "df3['cleaned_statement'].isnull().sum()"
   ]
  },
  {
   "cell_type": "code",
   "execution_count": 30,
   "metadata": {},
   "outputs": [],
   "source": [
    "df4=df3.drop(['cleaned_statement'],axis=1)"
   ]
  },
  {
   "cell_type": "code",
   "execution_count": 31,
   "metadata": {},
   "outputs": [
    {
     "data": {
      "text/html": [
       "<div>\n",
       "<style scoped>\n",
       "    .dataframe tbody tr th:only-of-type {\n",
       "        vertical-align: middle;\n",
       "    }\n",
       "\n",
       "    .dataframe tbody tr th {\n",
       "        vertical-align: top;\n",
       "    }\n",
       "\n",
       "    .dataframe thead th {\n",
       "        text-align: right;\n",
       "    }\n",
       "</style>\n",
       "<table border=\"1\" class=\"dataframe\">\n",
       "  <thead>\n",
       "    <tr style=\"text-align: right;\">\n",
       "      <th></th>\n",
       "      <th>label</th>\n",
       "      <th>cleaned_statement2</th>\n",
       "    </tr>\n",
       "  </thead>\n",
       "  <tbody>\n",
       "    <tr>\n",
       "      <th>0</th>\n",
       "      <td>Positive</td>\n",
       "      <td>Asked ChatGPT about what it thinks are the pro...</td>\n",
       "    </tr>\n",
       "    <tr>\n",
       "      <th>1</th>\n",
       "      <td>Neutral</td>\n",
       "      <td>ChatGPT tornado has already traveled around th...</td>\n",
       "    </tr>\n",
       "    <tr>\n",
       "      <th>2</th>\n",
       "      <td>Positive</td>\n",
       "      <td>This is a great explanation of why EVs are mor...</td>\n",
       "    </tr>\n",
       "    <tr>\n",
       "      <th>3</th>\n",
       "      <td>Positive</td>\n",
       "      <td>if you need to write a boxticking social media...</td>\n",
       "    </tr>\n",
       "    <tr>\n",
       "      <th>4</th>\n",
       "      <td>Positive</td>\n",
       "      <td>Just saw an AI tool making my coffee for me \\n...</td>\n",
       "    </tr>\n",
       "    <tr>\n",
       "      <th>...</th>\n",
       "      <td>...</td>\n",
       "      <td>...</td>\n",
       "    </tr>\n",
       "    <tr>\n",
       "      <th>594</th>\n",
       "      <td>Positive</td>\n",
       "      <td>4 GPTs AI capabilities are also more accessibl...</td>\n",
       "    </tr>\n",
       "    <tr>\n",
       "      <th>595</th>\n",
       "      <td>Positive</td>\n",
       "      <td>3 KeyboardX also provides a more secure enviro...</td>\n",
       "    </tr>\n",
       "    <tr>\n",
       "      <th>596</th>\n",
       "      <td>Positive</td>\n",
       "      <td>2 KeyboardX allows users to quickly and easily...</td>\n",
       "    </tr>\n",
       "    <tr>\n",
       "      <th>597</th>\n",
       "      <td>Positive</td>\n",
       "      <td>I asked ChatGPT why the app Im working on Keyb...</td>\n",
       "    </tr>\n",
       "    <tr>\n",
       "      <th>598</th>\n",
       "      <td>Positive</td>\n",
       "      <td>Theres been a lot of talk about AI engines and...</td>\n",
       "    </tr>\n",
       "  </tbody>\n",
       "</table>\n",
       "<p>599 rows × 2 columns</p>\n",
       "</div>"
      ],
      "text/plain": [
       "        label                                 cleaned_statement2\n",
       "0    Positive  Asked ChatGPT about what it thinks are the pro...\n",
       "1     Neutral  ChatGPT tornado has already traveled around th...\n",
       "2    Positive  This is a great explanation of why EVs are mor...\n",
       "3    Positive  if you need to write a boxticking social media...\n",
       "4    Positive  Just saw an AI tool making my coffee for me \\n...\n",
       "..        ...                                                ...\n",
       "594  Positive  4 GPTs AI capabilities are also more accessibl...\n",
       "595  Positive  3 KeyboardX also provides a more secure enviro...\n",
       "596  Positive  2 KeyboardX allows users to quickly and easily...\n",
       "597  Positive  I asked ChatGPT why the app Im working on Keyb...\n",
       "598  Positive  Theres been a lot of talk about AI engines and...\n",
       "\n",
       "[599 rows x 2 columns]"
      ]
     },
     "execution_count": 31,
     "metadata": {},
     "output_type": "execute_result"
    }
   ],
   "source": [
    "df4"
   ]
  },
  {
   "cell_type": "code",
   "execution_count": 48,
   "metadata": {},
   "outputs": [],
   "source": [
    "df4['label']=label_encoder.fit_transform(df4['label'])"
   ]
  },
  {
   "cell_type": "code",
   "execution_count": 49,
   "metadata": {},
   "outputs": [
    {
     "data": {
      "text/html": [
       "<div>\n",
       "<style scoped>\n",
       "    .dataframe tbody tr th:only-of-type {\n",
       "        vertical-align: middle;\n",
       "    }\n",
       "\n",
       "    .dataframe tbody tr th {\n",
       "        vertical-align: top;\n",
       "    }\n",
       "\n",
       "    .dataframe thead th {\n",
       "        text-align: right;\n",
       "    }\n",
       "</style>\n",
       "<table border=\"1\" class=\"dataframe\">\n",
       "  <thead>\n",
       "    <tr style=\"text-align: right;\">\n",
       "      <th></th>\n",
       "      <th>label</th>\n",
       "      <th>cleaned_statement2</th>\n",
       "    </tr>\n",
       "  </thead>\n",
       "  <tbody>\n",
       "    <tr>\n",
       "      <th>0</th>\n",
       "      <td>2</td>\n",
       "      <td>Asked ChatGPT about what it thinks are the pro...</td>\n",
       "    </tr>\n",
       "    <tr>\n",
       "      <th>1</th>\n",
       "      <td>1</td>\n",
       "      <td>ChatGPT tornado has already traveled around th...</td>\n",
       "    </tr>\n",
       "    <tr>\n",
       "      <th>2</th>\n",
       "      <td>2</td>\n",
       "      <td>This is a great explanation of why EVs are mor...</td>\n",
       "    </tr>\n",
       "    <tr>\n",
       "      <th>3</th>\n",
       "      <td>2</td>\n",
       "      <td>if you need to write a boxticking social media...</td>\n",
       "    </tr>\n",
       "    <tr>\n",
       "      <th>4</th>\n",
       "      <td>2</td>\n",
       "      <td>Just saw an AI tool making my coffee for me \\n...</td>\n",
       "    </tr>\n",
       "    <tr>\n",
       "      <th>...</th>\n",
       "      <td>...</td>\n",
       "      <td>...</td>\n",
       "    </tr>\n",
       "    <tr>\n",
       "      <th>594</th>\n",
       "      <td>2</td>\n",
       "      <td>4 GPTs AI capabilities are also more accessibl...</td>\n",
       "    </tr>\n",
       "    <tr>\n",
       "      <th>595</th>\n",
       "      <td>2</td>\n",
       "      <td>3 KeyboardX also provides a more secure enviro...</td>\n",
       "    </tr>\n",
       "    <tr>\n",
       "      <th>596</th>\n",
       "      <td>2</td>\n",
       "      <td>2 KeyboardX allows users to quickly and easily...</td>\n",
       "    </tr>\n",
       "    <tr>\n",
       "      <th>597</th>\n",
       "      <td>2</td>\n",
       "      <td>I asked ChatGPT why the app Im working on Keyb...</td>\n",
       "    </tr>\n",
       "    <tr>\n",
       "      <th>598</th>\n",
       "      <td>2</td>\n",
       "      <td>Theres been a lot of talk about AI engines and...</td>\n",
       "    </tr>\n",
       "  </tbody>\n",
       "</table>\n",
       "<p>599 rows × 2 columns</p>\n",
       "</div>"
      ],
      "text/plain": [
       "     label                                 cleaned_statement2\n",
       "0        2  Asked ChatGPT about what it thinks are the pro...\n",
       "1        1  ChatGPT tornado has already traveled around th...\n",
       "2        2  This is a great explanation of why EVs are mor...\n",
       "3        2  if you need to write a boxticking social media...\n",
       "4        2  Just saw an AI tool making my coffee for me \\n...\n",
       "..     ...                                                ...\n",
       "594      2  4 GPTs AI capabilities are also more accessibl...\n",
       "595      2  3 KeyboardX also provides a more secure enviro...\n",
       "596      2  2 KeyboardX allows users to quickly and easily...\n",
       "597      2  I asked ChatGPT why the app Im working on Keyb...\n",
       "598      2  Theres been a lot of talk about AI engines and...\n",
       "\n",
       "[599 rows x 2 columns]"
      ]
     },
     "execution_count": 49,
     "metadata": {},
     "output_type": "execute_result"
    }
   ],
   "source": [
    "df4"
   ]
  },
  {
   "cell_type": "code",
   "execution_count": 51,
   "metadata": {},
   "outputs": [],
   "source": [
    "tokenizer = Tokenizer(num_words=10000)\n",
    "tokenizer.fit_on_texts(df4['cleaned_statement2'])\n",
    "X_sequences = tokenizer.texts_to_sequences(df4['cleaned_statement2'])\n",
    "max_sequence_length = 100\n",
    "X_padded = pad_sequences(X_sequences, maxlen=max_sequence_length)"
   ]
  },
  {
   "cell_type": "code",
   "execution_count": 52,
   "metadata": {},
   "outputs": [],
   "source": [
    "X_train, X_test, Y_train, Y_test = train_test_split(X_padded, df4['label'], test_size=0.2, random_state=42)\n",
    "\n",
    "\n"
   ]
  },
  {
   "cell_type": "code",
   "execution_count": 53,
   "metadata": {},
   "outputs": [],
   "source": [
    "embedding_dim = 100\n",
    "model = Sequential()\n",
    "model.add(Embedding(10000, embedding_dim, input_length=max_sequence_length))\n",
    "model.add(LSTM(128))\n",
    "model.add(Dense(3, activation='softmax'))"
   ]
  },
  {
   "cell_type": "code",
   "execution_count": 60,
   "metadata": {},
   "outputs": [
    {
     "name": "stdout",
     "output_type": "stream",
     "text": [
      "Epoch 1/50\n",
      "6/6 [==============================] - 8s 477ms/step - loss: 0.4572 - accuracy: 0.8642 - val_loss: 1.1967 - val_accuracy: 0.5938\n",
      "Epoch 2/50\n",
      "6/6 [==============================] - 2s 281ms/step - loss: 0.2962 - accuracy: 0.8538 - val_loss: 1.4439 - val_accuracy: 0.5625\n",
      "Epoch 3/50\n",
      "6/6 [==============================] - 2s 272ms/step - loss: 0.2451 - accuracy: 0.8695 - val_loss: 1.1326 - val_accuracy: 0.5208\n",
      "Epoch 4/50\n",
      "6/6 [==============================] - 2s 271ms/step - loss: 0.2134 - accuracy: 0.8773 - val_loss: 1.1699 - val_accuracy: 0.5625\n",
      "Epoch 5/50\n",
      "6/6 [==============================] - 2s 288ms/step - loss: 0.1583 - accuracy: 0.9556 - val_loss: 1.3630 - val_accuracy: 0.6042\n",
      "Epoch 6/50\n",
      "6/6 [==============================] - 2s 281ms/step - loss: 0.1116 - accuracy: 0.9843 - val_loss: 1.6247 - val_accuracy: 0.5938\n",
      "Epoch 7/50\n",
      "6/6 [==============================] - 2s 267ms/step - loss: 0.0988 - accuracy: 0.9817 - val_loss: 1.6818 - val_accuracy: 0.6042\n",
      "Epoch 8/50\n",
      "6/6 [==============================] - 2s 286ms/step - loss: 0.0610 - accuracy: 0.9896 - val_loss: 1.3965 - val_accuracy: 0.6146\n",
      "Epoch 9/50\n",
      "6/6 [==============================] - 2s 268ms/step - loss: 0.0443 - accuracy: 0.9974 - val_loss: 1.2979 - val_accuracy: 0.5625\n",
      "Epoch 10/50\n",
      "6/6 [==============================] - 2s 280ms/step - loss: 0.0298 - accuracy: 0.9974 - val_loss: 1.3596 - val_accuracy: 0.5521\n",
      "Epoch 11/50\n",
      "6/6 [==============================] - 2s 267ms/step - loss: 0.0169 - accuracy: 1.0000 - val_loss: 1.5147 - val_accuracy: 0.5417\n",
      "Epoch 12/50\n",
      "6/6 [==============================] - 2s 271ms/step - loss: 0.0111 - accuracy: 1.0000 - val_loss: 1.7114 - val_accuracy: 0.5417\n",
      "Epoch 13/50\n",
      "6/6 [==============================] - 2s 278ms/step - loss: 0.0084 - accuracy: 1.0000 - val_loss: 1.8913 - val_accuracy: 0.5417\n",
      "Epoch 14/50\n",
      "6/6 [==============================] - 2s 265ms/step - loss: 0.0062 - accuracy: 1.0000 - val_loss: 1.9762 - val_accuracy: 0.5417\n",
      "Epoch 15/50\n",
      "6/6 [==============================] - 2s 270ms/step - loss: 0.0048 - accuracy: 1.0000 - val_loss: 2.0348 - val_accuracy: 0.5312\n",
      "Epoch 16/50\n",
      "6/6 [==============================] - 2s 287ms/step - loss: 0.0041 - accuracy: 1.0000 - val_loss: 2.1025 - val_accuracy: 0.5417\n",
      "Epoch 17/50\n",
      "6/6 [==============================] - 2s 281ms/step - loss: 0.0034 - accuracy: 1.0000 - val_loss: 2.1480 - val_accuracy: 0.5312\n",
      "Epoch 18/50\n",
      "6/6 [==============================] - 2s 270ms/step - loss: 0.0031 - accuracy: 1.0000 - val_loss: 2.2214 - val_accuracy: 0.5417\n",
      "Epoch 19/50\n",
      "6/6 [==============================] - 2s 270ms/step - loss: 0.0027 - accuracy: 1.0000 - val_loss: 2.2679 - val_accuracy: 0.5521\n",
      "Epoch 20/50\n",
      "6/6 [==============================] - 2s 275ms/step - loss: 0.0027 - accuracy: 1.0000 - val_loss: 2.2909 - val_accuracy: 0.5521\n",
      "Epoch 21/50\n",
      "6/6 [==============================] - 2s 276ms/step - loss: 0.0022 - accuracy: 1.0000 - val_loss: 2.3114 - val_accuracy: 0.5521\n",
      "Epoch 22/50\n",
      "6/6 [==============================] - 2s 281ms/step - loss: 0.0019 - accuracy: 1.0000 - val_loss: 2.3539 - val_accuracy: 0.5521\n",
      "Epoch 23/50\n",
      "6/6 [==============================] - 2s 274ms/step - loss: 0.0018 - accuracy: 1.0000 - val_loss: 2.3927 - val_accuracy: 0.5521\n",
      "Epoch 24/50\n",
      "6/6 [==============================] - 2s 274ms/step - loss: 0.0016 - accuracy: 1.0000 - val_loss: 2.4489 - val_accuracy: 0.5521\n",
      "Epoch 25/50\n",
      "6/6 [==============================] - 2s 313ms/step - loss: 0.0014 - accuracy: 1.0000 - val_loss: 2.4882 - val_accuracy: 0.5521\n",
      "Epoch 26/50\n",
      "6/6 [==============================] - 2s 291ms/step - loss: 0.0013 - accuracy: 1.0000 - val_loss: 2.5175 - val_accuracy: 0.5521\n",
      "Epoch 27/50\n",
      "6/6 [==============================] - 2s 275ms/step - loss: 0.0012 - accuracy: 1.0000 - val_loss: 2.5612 - val_accuracy: 0.5729\n",
      "Epoch 28/50\n",
      "6/6 [==============================] - 2s 272ms/step - loss: 0.0011 - accuracy: 1.0000 - val_loss: 2.5927 - val_accuracy: 0.5729\n",
      "Epoch 29/50\n",
      "6/6 [==============================] - 2s 270ms/step - loss: 0.0011 - accuracy: 1.0000 - val_loss: 2.6098 - val_accuracy: 0.5521\n",
      "Epoch 30/50\n",
      "6/6 [==============================] - 2s 276ms/step - loss: 9.4573e-04 - accuracy: 1.0000 - val_loss: 2.6463 - val_accuracy: 0.5729\n",
      "Epoch 31/50\n",
      "6/6 [==============================] - 2s 289ms/step - loss: 8.8234e-04 - accuracy: 1.0000 - val_loss: 2.6878 - val_accuracy: 0.5625\n",
      "Epoch 32/50\n",
      "6/6 [==============================] - 2s 275ms/step - loss: 8.4579e-04 - accuracy: 1.0000 - val_loss: 2.7354 - val_accuracy: 0.5521\n",
      "Epoch 33/50\n",
      "6/6 [==============================] - 2s 271ms/step - loss: 7.7345e-04 - accuracy: 1.0000 - val_loss: 2.7475 - val_accuracy: 0.5625\n",
      "Epoch 34/50\n",
      "6/6 [==============================] - 2s 277ms/step - loss: 7.1823e-04 - accuracy: 1.0000 - val_loss: 2.7661 - val_accuracy: 0.5625\n",
      "Epoch 35/50\n",
      "6/6 [==============================] - 2s 279ms/step - loss: 6.8767e-04 - accuracy: 1.0000 - val_loss: 2.7917 - val_accuracy: 0.5625\n",
      "Epoch 36/50\n",
      "6/6 [==============================] - 2s 288ms/step - loss: 6.4694e-04 - accuracy: 1.0000 - val_loss: 2.8343 - val_accuracy: 0.5521\n",
      "Epoch 37/50\n",
      "6/6 [==============================] - 2s 273ms/step - loss: 6.0083e-04 - accuracy: 1.0000 - val_loss: 2.8565 - val_accuracy: 0.5521\n",
      "Epoch 38/50\n",
      "6/6 [==============================] - 2s 269ms/step - loss: 5.7700e-04 - accuracy: 1.0000 - val_loss: 2.9026 - val_accuracy: 0.5521\n",
      "Epoch 39/50\n",
      "6/6 [==============================] - 2s 281ms/step - loss: 5.4089e-04 - accuracy: 1.0000 - val_loss: 2.9526 - val_accuracy: 0.5521\n",
      "Epoch 40/50\n",
      "6/6 [==============================] - 2s 276ms/step - loss: 5.1040e-04 - accuracy: 1.0000 - val_loss: 2.9856 - val_accuracy: 0.5521\n",
      "Epoch 41/50\n",
      "6/6 [==============================] - 2s 286ms/step - loss: 4.9075e-04 - accuracy: 1.0000 - val_loss: 3.0135 - val_accuracy: 0.5521\n",
      "Epoch 42/50\n",
      "6/6 [==============================] - 2s 273ms/step - loss: 4.6787e-04 - accuracy: 1.0000 - val_loss: 3.0245 - val_accuracy: 0.5521\n",
      "Epoch 43/50\n",
      "6/6 [==============================] - 2s 272ms/step - loss: 4.5897e-04 - accuracy: 1.0000 - val_loss: 3.0578 - val_accuracy: 0.5521\n",
      "Epoch 44/50\n",
      "6/6 [==============================] - 2s 271ms/step - loss: 4.1825e-04 - accuracy: 1.0000 - val_loss: 3.0956 - val_accuracy: 0.5521\n",
      "Epoch 45/50\n",
      "6/6 [==============================] - 2s 282ms/step - loss: 4.0691e-04 - accuracy: 1.0000 - val_loss: 3.1301 - val_accuracy: 0.5521\n",
      "Epoch 46/50\n",
      "6/6 [==============================] - 2s 269ms/step - loss: 4.0022e-04 - accuracy: 1.0000 - val_loss: 3.1649 - val_accuracy: 0.5521\n",
      "Epoch 47/50\n",
      "6/6 [==============================] - 2s 284ms/step - loss: 3.6599e-04 - accuracy: 1.0000 - val_loss: 3.1832 - val_accuracy: 0.5521\n",
      "Epoch 48/50\n",
      "6/6 [==============================] - 2s 284ms/step - loss: 3.8150e-04 - accuracy: 1.0000 - val_loss: 3.2150 - val_accuracy: 0.5521\n",
      "Epoch 49/50\n",
      "6/6 [==============================] - 2s 280ms/step - loss: 3.4503e-04 - accuracy: 1.0000 - val_loss: 3.2298 - val_accuracy: 0.5521\n",
      "Epoch 50/50\n",
      "6/6 [==============================] - 2s 285ms/step - loss: 3.4491e-04 - accuracy: 1.0000 - val_loss: 3.2304 - val_accuracy: 0.5521\n"
     ]
    },
    {
     "data": {
      "text/plain": [
       "<keras.src.callbacks.History at 0x292996d0110>"
      ]
     },
     "execution_count": 60,
     "metadata": {},
     "output_type": "execute_result"
    }
   ],
   "source": [
    "# Compile the model\n",
    "model.compile(optimizer='adam', loss='sparse_categorical_crossentropy', metrics=['accuracy'])\n",
    "\n",
    "# Train the model\n",
    "model.fit(X_train, Y_train, epochs=50, batch_size=64, validation_split=0.2)"
   ]
  },
  {
   "cell_type": "markdown",
   "metadata": {},
   "source": [
    "### Accuracy"
   ]
  },
  {
   "cell_type": "code",
   "execution_count": 61,
   "metadata": {},
   "outputs": [
    {
     "name": "stdout",
     "output_type": "stream",
     "text": [
      "4/4 [==============================] - 0s 47ms/step - loss: 2.4645 - accuracy: 0.6083\n",
      "Test Loss: 2.4644968509674072\n",
      "Test Accuracy: 0.6083333492279053\n"
     ]
    }
   ],
   "source": [
    "# Evaluate the model\n",
    "loss, accuracy = model.evaluate(X_test, Y_test)\n",
    "print(\"Test Loss:\", loss)\n",
    "print(\"Test Accuracy:\", accuracy)"
   ]
  },
  {
   "cell_type": "code",
   "execution_count": 57,
   "metadata": {},
   "outputs": [],
   "source": [
    "test=pd.read_csv(r\"C:\\Users\\aswin\\Downloads\\test (1).csv\")"
   ]
  },
  {
   "cell_type": "code",
   "execution_count": 58,
   "metadata": {},
   "outputs": [
    {
     "data": {
      "text/html": [
       "<div>\n",
       "<style scoped>\n",
       "    .dataframe tbody tr th:only-of-type {\n",
       "        vertical-align: middle;\n",
       "    }\n",
       "\n",
       "    .dataframe tbody tr th {\n",
       "        vertical-align: top;\n",
       "    }\n",
       "\n",
       "    .dataframe thead th {\n",
       "        text-align: right;\n",
       "    }\n",
       "</style>\n",
       "<table border=\"1\" class=\"dataframe\">\n",
       "  <thead>\n",
       "    <tr style=\"text-align: right;\">\n",
       "      <th></th>\n",
       "      <th>@CoffeeVectors @jenny____r confirmed #ChatGPT has dad jokes https://t.co/tC2Sks2f76</th>\n",
       "      <th>Positive</th>\n",
       "    </tr>\n",
       "  </thead>\n",
       "  <tbody>\n",
       "    <tr>\n",
       "      <th>0</th>\n",
       "      <td>Sooooo depressing (our competition as journos ...</td>\n",
       "      <td>Negative</td>\n",
       "    </tr>\n",
       "    <tr>\n",
       "      <th>1</th>\n",
       "      <td>I just had a 4 hour deep conversation with #Ch...</td>\n",
       "      <td>Positive</td>\n",
       "    </tr>\n",
       "    <tr>\n",
       "      <th>2</th>\n",
       "      <td>I began to explore #chatgpt today.\\n\\nI asked ...</td>\n",
       "      <td>Negative</td>\n",
       "    </tr>\n",
       "    <tr>\n",
       "      <th>3</th>\n",
       "      <td>/2023\\n1. Ask #ChatGPT\\n2. Add some content\\n3...</td>\n",
       "      <td>Positive</td>\n",
       "    </tr>\n",
       "    <tr>\n",
       "      <th>4</th>\n",
       "      <td>#Explained: Are you soon going to be replaced?...</td>\n",
       "      <td>Negative</td>\n",
       "    </tr>\n",
       "    <tr>\n",
       "      <th>...</th>\n",
       "      <td>...</td>\n",
       "      <td>...</td>\n",
       "    </tr>\n",
       "    <tr>\n",
       "      <th>165</th>\n",
       "      <td>Earth's #OpenAIChatGPT  has become sentient an...</td>\n",
       "      <td>Positive</td>\n",
       "    </tr>\n",
       "    <tr>\n",
       "      <th>166</th>\n",
       "      <td>The first response was elaborate with some obv...</td>\n",
       "      <td>Positive</td>\n",
       "    </tr>\n",
       "    <tr>\n",
       "      <th>167</th>\n",
       "      <td>The absolutely terrifying inevitability of #Ch...</td>\n",
       "      <td>Negative</td>\n",
       "    </tr>\n",
       "    <tr>\n",
       "      <th>168</th>\n",
       "      <td>I asked ChatGPT what video would give the most...</td>\n",
       "      <td>Neutral</td>\n",
       "    </tr>\n",
       "    <tr>\n",
       "      <th>169</th>\n",
       "      <td>Not every postgrad student trying this prompt ...</td>\n",
       "      <td>Neutral</td>\n",
       "    </tr>\n",
       "  </tbody>\n",
       "</table>\n",
       "<p>170 rows × 2 columns</p>\n",
       "</div>"
      ],
      "text/plain": [
       "    @CoffeeVectors @jenny____r confirmed #ChatGPT has dad jokes https://t.co/tC2Sks2f76  \\\n",
       "0    Sooooo depressing (our competition as journos ...                                    \n",
       "1    I just had a 4 hour deep conversation with #Ch...                                    \n",
       "2    I began to explore #chatgpt today.\\n\\nI asked ...                                    \n",
       "3    /2023\\n1. Ask #ChatGPT\\n2. Add some content\\n3...                                    \n",
       "4    #Explained: Are you soon going to be replaced?...                                    \n",
       "..                                                 ...                                    \n",
       "165  Earth's #OpenAIChatGPT  has become sentient an...                                    \n",
       "166  The first response was elaborate with some obv...                                    \n",
       "167  The absolutely terrifying inevitability of #Ch...                                    \n",
       "168  I asked ChatGPT what video would give the most...                                    \n",
       "169  Not every postgrad student trying this prompt ...                                    \n",
       "\n",
       "     Positive  \n",
       "0    Negative  \n",
       "1    Positive  \n",
       "2    Negative  \n",
       "3    Positive  \n",
       "4    Negative  \n",
       "..        ...  \n",
       "165  Positive  \n",
       "166  Positive  \n",
       "167  Negative  \n",
       "168   Neutral  \n",
       "169   Neutral  \n",
       "\n",
       "[170 rows x 2 columns]"
      ]
     },
     "execution_count": 58,
     "metadata": {},
     "output_type": "execute_result"
    }
   ],
   "source": [
    "test"
   ]
  },
  {
   "cell_type": "code",
   "execution_count": 59,
   "metadata": {},
   "outputs": [
    {
     "data": {
      "text/plain": [
       "Index(['@CoffeeVectors @jenny____r confirmed #ChatGPT has dad jokes https://t.co/tC2Sks2f76', 'Positive'], dtype='object')"
      ]
     },
     "execution_count": 59,
     "metadata": {},
     "output_type": "execute_result"
    }
   ],
   "source": [
    "test.columns"
   ]
  },
  {
   "cell_type": "code",
   "execution_count": 62,
   "metadata": {},
   "outputs": [],
   "source": [
    "test = test.rename(columns={'@CoffeeVectors @jenny____r confirmed #ChatGPT has dad jokes https://t.co/tC2Sks2f76': 'Statement', 'Positive': 'label'})"
   ]
  },
  {
   "cell_type": "code",
   "execution_count": 63,
   "metadata": {},
   "outputs": [
    {
     "data": {
      "text/html": [
       "<div>\n",
       "<style scoped>\n",
       "    .dataframe tbody tr th:only-of-type {\n",
       "        vertical-align: middle;\n",
       "    }\n",
       "\n",
       "    .dataframe tbody tr th {\n",
       "        vertical-align: top;\n",
       "    }\n",
       "\n",
       "    .dataframe thead th {\n",
       "        text-align: right;\n",
       "    }\n",
       "</style>\n",
       "<table border=\"1\" class=\"dataframe\">\n",
       "  <thead>\n",
       "    <tr style=\"text-align: right;\">\n",
       "      <th></th>\n",
       "      <th>Statement</th>\n",
       "      <th>label</th>\n",
       "    </tr>\n",
       "  </thead>\n",
       "  <tbody>\n",
       "    <tr>\n",
       "      <th>0</th>\n",
       "      <td>Sooooo depressing (our competition as journos ...</td>\n",
       "      <td>Negative</td>\n",
       "    </tr>\n",
       "    <tr>\n",
       "      <th>1</th>\n",
       "      <td>I just had a 4 hour deep conversation with #Ch...</td>\n",
       "      <td>Positive</td>\n",
       "    </tr>\n",
       "    <tr>\n",
       "      <th>2</th>\n",
       "      <td>I began to explore #chatgpt today.\\n\\nI asked ...</td>\n",
       "      <td>Negative</td>\n",
       "    </tr>\n",
       "    <tr>\n",
       "      <th>3</th>\n",
       "      <td>/2023\\n1. Ask #ChatGPT\\n2. Add some content\\n3...</td>\n",
       "      <td>Positive</td>\n",
       "    </tr>\n",
       "    <tr>\n",
       "      <th>4</th>\n",
       "      <td>#Explained: Are you soon going to be replaced?...</td>\n",
       "      <td>Negative</td>\n",
       "    </tr>\n",
       "    <tr>\n",
       "      <th>...</th>\n",
       "      <td>...</td>\n",
       "      <td>...</td>\n",
       "    </tr>\n",
       "    <tr>\n",
       "      <th>165</th>\n",
       "      <td>Earth's #OpenAIChatGPT  has become sentient an...</td>\n",
       "      <td>Positive</td>\n",
       "    </tr>\n",
       "    <tr>\n",
       "      <th>166</th>\n",
       "      <td>The first response was elaborate with some obv...</td>\n",
       "      <td>Positive</td>\n",
       "    </tr>\n",
       "    <tr>\n",
       "      <th>167</th>\n",
       "      <td>The absolutely terrifying inevitability of #Ch...</td>\n",
       "      <td>Negative</td>\n",
       "    </tr>\n",
       "    <tr>\n",
       "      <th>168</th>\n",
       "      <td>I asked ChatGPT what video would give the most...</td>\n",
       "      <td>Neutral</td>\n",
       "    </tr>\n",
       "    <tr>\n",
       "      <th>169</th>\n",
       "      <td>Not every postgrad student trying this prompt ...</td>\n",
       "      <td>Neutral</td>\n",
       "    </tr>\n",
       "  </tbody>\n",
       "</table>\n",
       "<p>170 rows × 2 columns</p>\n",
       "</div>"
      ],
      "text/plain": [
       "                                             Statement     label\n",
       "0    Sooooo depressing (our competition as journos ...  Negative\n",
       "1    I just had a 4 hour deep conversation with #Ch...  Positive\n",
       "2    I began to explore #chatgpt today.\\n\\nI asked ...  Negative\n",
       "3    /2023\\n1. Ask #ChatGPT\\n2. Add some content\\n3...  Positive\n",
       "4    #Explained: Are you soon going to be replaced?...  Negative\n",
       "..                                                 ...       ...\n",
       "165  Earth's #OpenAIChatGPT  has become sentient an...  Positive\n",
       "166  The first response was elaborate with some obv...  Positive\n",
       "167  The absolutely terrifying inevitability of #Ch...  Negative\n",
       "168  I asked ChatGPT what video would give the most...   Neutral\n",
       "169  Not every postgrad student trying this prompt ...   Neutral\n",
       "\n",
       "[170 rows x 2 columns]"
      ]
     },
     "execution_count": 63,
     "metadata": {},
     "output_type": "execute_result"
    }
   ],
   "source": [
    "test"
   ]
  },
  {
   "cell_type": "code",
   "execution_count": 64,
   "metadata": {},
   "outputs": [
    {
     "data": {
      "text/plain": [
       "Statement    0\n",
       "label        0\n",
       "dtype: int64"
      ]
     },
     "execution_count": 64,
     "metadata": {},
     "output_type": "execute_result"
    }
   ],
   "source": [
    "test.isnull().sum()"
   ]
  },
  {
   "cell_type": "code",
   "execution_count": 66,
   "metadata": {},
   "outputs": [
    {
     "data": {
      "text/html": [
       "<div>\n",
       "<style scoped>\n",
       "    .dataframe tbody tr th:only-of-type {\n",
       "        vertical-align: middle;\n",
       "    }\n",
       "\n",
       "    .dataframe tbody tr th {\n",
       "        vertical-align: top;\n",
       "    }\n",
       "\n",
       "    .dataframe thead th {\n",
       "        text-align: right;\n",
       "    }\n",
       "</style>\n",
       "<table border=\"1\" class=\"dataframe\">\n",
       "  <thead>\n",
       "    <tr style=\"text-align: right;\">\n",
       "      <th></th>\n",
       "      <th>Statement</th>\n",
       "      <th>label</th>\n",
       "      <th>cleaned_statement</th>\n",
       "    </tr>\n",
       "  </thead>\n",
       "  <tbody>\n",
       "    <tr>\n",
       "      <th>0</th>\n",
       "      <td>Sooooo depressing (our competition as journos ...</td>\n",
       "      <td>Negative</td>\n",
       "      <td>Sooooo depressing our competition as journos a...</td>\n",
       "    </tr>\n",
       "    <tr>\n",
       "      <th>1</th>\n",
       "      <td>I just had a 4 hour deep conversation with #Ch...</td>\n",
       "      <td>Positive</td>\n",
       "      <td>I just had a 4 hour deep conversation with Cha...</td>\n",
       "    </tr>\n",
       "    <tr>\n",
       "      <th>2</th>\n",
       "      <td>I began to explore #chatgpt today.\\n\\nI asked ...</td>\n",
       "      <td>Negative</td>\n",
       "      <td>I began to explore chatgpt today\\n\\nI asked fo...</td>\n",
       "    </tr>\n",
       "    <tr>\n",
       "      <th>3</th>\n",
       "      <td>/2023\\n1. Ask #ChatGPT\\n2. Add some content\\n3...</td>\n",
       "      <td>Positive</td>\n",
       "      <td>2023\\n1 Ask ChatGPT\\n2 Add some content\\n3 Pub...</td>\n",
       "    </tr>\n",
       "    <tr>\n",
       "      <th>4</th>\n",
       "      <td>#Explained: Are you soon going to be replaced?...</td>\n",
       "      <td>Negative</td>\n",
       "      <td>Explained Are you soon going to be replaced Ar...</td>\n",
       "    </tr>\n",
       "  </tbody>\n",
       "</table>\n",
       "</div>"
      ],
      "text/plain": [
       "                                           Statement     label  \\\n",
       "0  Sooooo depressing (our competition as journos ...  Negative   \n",
       "1  I just had a 4 hour deep conversation with #Ch...  Positive   \n",
       "2  I began to explore #chatgpt today.\\n\\nI asked ...  Negative   \n",
       "3  /2023\\n1. Ask #ChatGPT\\n2. Add some content\\n3...  Positive   \n",
       "4  #Explained: Are you soon going to be replaced?...  Negative   \n",
       "\n",
       "                                   cleaned_statement  \n",
       "0  Sooooo depressing our competition as journos a...  \n",
       "1  I just had a 4 hour deep conversation with Cha...  \n",
       "2  I began to explore chatgpt today\\n\\nI asked fo...  \n",
       "3  2023\\n1 Ask ChatGPT\\n2 Add some content\\n3 Pub...  \n",
       "4  Explained Are you soon going to be replaced Ar...  "
      ]
     },
     "execution_count": 66,
     "metadata": {},
     "output_type": "execute_result"
    }
   ],
   "source": [
    "import re\n",
    "test['cleaned_statement'] = test['Statement'].apply(lambda x: re.sub(r'[^\\w\\s]', '', x))\n",
    "test.head()"
   ]
  },
  {
   "cell_type": "code",
   "execution_count": 67,
   "metadata": {},
   "outputs": [],
   "source": [
    "test=test.drop(['Statement'],axis=1)"
   ]
  },
  {
   "cell_type": "code",
   "execution_count": 68,
   "metadata": {},
   "outputs": [
    {
     "data": {
      "text/html": [
       "<div>\n",
       "<style scoped>\n",
       "    .dataframe tbody tr th:only-of-type {\n",
       "        vertical-align: middle;\n",
       "    }\n",
       "\n",
       "    .dataframe tbody tr th {\n",
       "        vertical-align: top;\n",
       "    }\n",
       "\n",
       "    .dataframe thead th {\n",
       "        text-align: right;\n",
       "    }\n",
       "</style>\n",
       "<table border=\"1\" class=\"dataframe\">\n",
       "  <thead>\n",
       "    <tr style=\"text-align: right;\">\n",
       "      <th></th>\n",
       "      <th>label</th>\n",
       "      <th>cleaned_statement</th>\n",
       "    </tr>\n",
       "  </thead>\n",
       "  <tbody>\n",
       "    <tr>\n",
       "      <th>0</th>\n",
       "      <td>Negative</td>\n",
       "      <td>Sooooo depressing our competition as journos a...</td>\n",
       "    </tr>\n",
       "    <tr>\n",
       "      <th>1</th>\n",
       "      <td>Positive</td>\n",
       "      <td>I just had a 4 hour deep conversation with Cha...</td>\n",
       "    </tr>\n",
       "    <tr>\n",
       "      <th>2</th>\n",
       "      <td>Negative</td>\n",
       "      <td>I began to explore chatgpt today\\n\\nI asked fo...</td>\n",
       "    </tr>\n",
       "    <tr>\n",
       "      <th>3</th>\n",
       "      <td>Positive</td>\n",
       "      <td>2023\\n1 Ask ChatGPT\\n2 Add some content\\n3 Pub...</td>\n",
       "    </tr>\n",
       "    <tr>\n",
       "      <th>4</th>\n",
       "      <td>Negative</td>\n",
       "      <td>Explained Are you soon going to be replaced Ar...</td>\n",
       "    </tr>\n",
       "    <tr>\n",
       "      <th>...</th>\n",
       "      <td>...</td>\n",
       "      <td>...</td>\n",
       "    </tr>\n",
       "    <tr>\n",
       "      <th>165</th>\n",
       "      <td>Positive</td>\n",
       "      <td>Earths OpenAIChatGPT  has become sentient and ...</td>\n",
       "    </tr>\n",
       "    <tr>\n",
       "      <th>166</th>\n",
       "      <td>Positive</td>\n",
       "      <td>The first response was elaborate with some obv...</td>\n",
       "    </tr>\n",
       "    <tr>\n",
       "      <th>167</th>\n",
       "      <td>Negative</td>\n",
       "      <td>The absolutely terrifying inevitability of Cha...</td>\n",
       "    </tr>\n",
       "    <tr>\n",
       "      <th>168</th>\n",
       "      <td>Neutral</td>\n",
       "      <td>I asked ChatGPT what video would give the most...</td>\n",
       "    </tr>\n",
       "    <tr>\n",
       "      <th>169</th>\n",
       "      <td>Neutral</td>\n",
       "      <td>Not every postgrad student trying this prompt ...</td>\n",
       "    </tr>\n",
       "  </tbody>\n",
       "</table>\n",
       "<p>170 rows × 2 columns</p>\n",
       "</div>"
      ],
      "text/plain": [
       "        label                                  cleaned_statement\n",
       "0    Negative  Sooooo depressing our competition as journos a...\n",
       "1    Positive  I just had a 4 hour deep conversation with Cha...\n",
       "2    Negative  I began to explore chatgpt today\\n\\nI asked fo...\n",
       "3    Positive  2023\\n1 Ask ChatGPT\\n2 Add some content\\n3 Pub...\n",
       "4    Negative  Explained Are you soon going to be replaced Ar...\n",
       "..        ...                                                ...\n",
       "165  Positive  Earths OpenAIChatGPT  has become sentient and ...\n",
       "166  Positive  The first response was elaborate with some obv...\n",
       "167  Negative  The absolutely terrifying inevitability of Cha...\n",
       "168   Neutral  I asked ChatGPT what video would give the most...\n",
       "169   Neutral  Not every postgrad student trying this prompt ...\n",
       "\n",
       "[170 rows x 2 columns]"
      ]
     },
     "execution_count": 68,
     "metadata": {},
     "output_type": "execute_result"
    }
   ],
   "source": [
    "test"
   ]
  },
  {
   "cell_type": "code",
   "execution_count": 69,
   "metadata": {},
   "outputs": [
    {
     "name": "stderr",
     "output_type": "stream",
     "text": [
      "C:\\Users\\aswin\\AppData\\Local\\Temp\\ipykernel_27596\\1446555399.py:1: FutureWarning: The default value of regex will change from True to False in a future version.\n",
      "  test['cleaned_statement'] = test['cleaned_statement'].str.replace(r'[\\/\\\\,]', '')\n"
     ]
    }
   ],
   "source": [
    "test['cleaned_statement'] = test['cleaned_statement'].str.replace(r'[\\/\\\\,]', '')"
   ]
  },
  {
   "cell_type": "code",
   "execution_count": 70,
   "metadata": {},
   "outputs": [
    {
     "data": {
      "text/html": [
       "<div>\n",
       "<style scoped>\n",
       "    .dataframe tbody tr th:only-of-type {\n",
       "        vertical-align: middle;\n",
       "    }\n",
       "\n",
       "    .dataframe tbody tr th {\n",
       "        vertical-align: top;\n",
       "    }\n",
       "\n",
       "    .dataframe thead th {\n",
       "        text-align: right;\n",
       "    }\n",
       "</style>\n",
       "<table border=\"1\" class=\"dataframe\">\n",
       "  <thead>\n",
       "    <tr style=\"text-align: right;\">\n",
       "      <th></th>\n",
       "      <th>label</th>\n",
       "      <th>cleaned_statement</th>\n",
       "    </tr>\n",
       "  </thead>\n",
       "  <tbody>\n",
       "    <tr>\n",
       "      <th>0</th>\n",
       "      <td>Negative</td>\n",
       "      <td>Sooooo depressing our competition as journos a...</td>\n",
       "    </tr>\n",
       "    <tr>\n",
       "      <th>1</th>\n",
       "      <td>Positive</td>\n",
       "      <td>I just had a 4 hour deep conversation with Cha...</td>\n",
       "    </tr>\n",
       "    <tr>\n",
       "      <th>2</th>\n",
       "      <td>Negative</td>\n",
       "      <td>I began to explore chatgpt today\\n\\nI asked fo...</td>\n",
       "    </tr>\n",
       "    <tr>\n",
       "      <th>3</th>\n",
       "      <td>Positive</td>\n",
       "      <td>2023\\n1 Ask ChatGPT\\n2 Add some content\\n3 Pub...</td>\n",
       "    </tr>\n",
       "    <tr>\n",
       "      <th>4</th>\n",
       "      <td>Negative</td>\n",
       "      <td>Explained Are you soon going to be replaced Ar...</td>\n",
       "    </tr>\n",
       "    <tr>\n",
       "      <th>...</th>\n",
       "      <td>...</td>\n",
       "      <td>...</td>\n",
       "    </tr>\n",
       "    <tr>\n",
       "      <th>165</th>\n",
       "      <td>Positive</td>\n",
       "      <td>Earths OpenAIChatGPT  has become sentient and ...</td>\n",
       "    </tr>\n",
       "    <tr>\n",
       "      <th>166</th>\n",
       "      <td>Positive</td>\n",
       "      <td>The first response was elaborate with some obv...</td>\n",
       "    </tr>\n",
       "    <tr>\n",
       "      <th>167</th>\n",
       "      <td>Negative</td>\n",
       "      <td>The absolutely terrifying inevitability of Cha...</td>\n",
       "    </tr>\n",
       "    <tr>\n",
       "      <th>168</th>\n",
       "      <td>Neutral</td>\n",
       "      <td>I asked ChatGPT what video would give the most...</td>\n",
       "    </tr>\n",
       "    <tr>\n",
       "      <th>169</th>\n",
       "      <td>Neutral</td>\n",
       "      <td>Not every postgrad student trying this prompt ...</td>\n",
       "    </tr>\n",
       "  </tbody>\n",
       "</table>\n",
       "<p>170 rows × 2 columns</p>\n",
       "</div>"
      ],
      "text/plain": [
       "        label                                  cleaned_statement\n",
       "0    Negative  Sooooo depressing our competition as journos a...\n",
       "1    Positive  I just had a 4 hour deep conversation with Cha...\n",
       "2    Negative  I began to explore chatgpt today\\n\\nI asked fo...\n",
       "3    Positive  2023\\n1 Ask ChatGPT\\n2 Add some content\\n3 Pub...\n",
       "4    Negative  Explained Are you soon going to be replaced Ar...\n",
       "..        ...                                                ...\n",
       "165  Positive  Earths OpenAIChatGPT  has become sentient and ...\n",
       "166  Positive  The first response was elaborate with some obv...\n",
       "167  Negative  The absolutely terrifying inevitability of Cha...\n",
       "168   Neutral  I asked ChatGPT what video would give the most...\n",
       "169   Neutral  Not every postgrad student trying this prompt ...\n",
       "\n",
       "[170 rows x 2 columns]"
      ]
     },
     "execution_count": 70,
     "metadata": {},
     "output_type": "execute_result"
    }
   ],
   "source": [
    "test"
   ]
  },
  {
   "cell_type": "code",
   "execution_count": 71,
   "metadata": {},
   "outputs": [],
   "source": [
    "xt=test['cleaned_statement']"
   ]
  },
  {
   "cell_type": "code",
   "execution_count": 73,
   "metadata": {},
   "outputs": [],
   "source": [
    "test['label']=label_encoder.fit_transform(test['label'])"
   ]
  },
  {
   "cell_type": "code",
   "execution_count": 74,
   "metadata": {},
   "outputs": [],
   "source": [
    "tokenizer = Tokenizer(num_words=10000)\n",
    "tokenizer.fit_on_texts(test['cleaned_statement'])\n",
    "X_sequences = tokenizer.texts_to_sequences(test['cleaned_statement'])\n",
    "max_sequence_length = 100\n",
    "X_padded = pad_sequences(X_sequences, maxlen=max_sequence_length)"
   ]
  },
  {
   "cell_type": "code",
   "execution_count": 75,
   "metadata": {},
   "outputs": [],
   "source": [
    "X_train, X_test, Y_train, Y_test = train_test_split(X_padded, test['label'], test_size=0.2, random_state=42)\n",
    "\n"
   ]
  },
  {
   "cell_type": "code",
   "execution_count": 76,
   "metadata": {},
   "outputs": [],
   "source": [
    "embedding_dim = 100\n",
    "model = Sequential()\n",
    "model.add(Embedding(10000, embedding_dim, input_length=max_sequence_length))\n",
    "model.add(LSTM(128))\n",
    "model.add(Dense(3, activation='softmax'))"
   ]
  },
  {
   "cell_type": "code",
   "execution_count": 77,
   "metadata": {},
   "outputs": [
    {
     "name": "stdout",
     "output_type": "stream",
     "text": [
      "Epoch 1/50\n",
      "2/2 [==============================] - 6s 1s/step - loss: 1.0956 - accuracy: 0.4074 - val_loss: 1.0829 - val_accuracy: 0.6429\n",
      "Epoch 2/50\n",
      "2/2 [==============================] - 1s 281ms/step - loss: 1.0663 - accuracy: 0.6759 - val_loss: 1.0612 - val_accuracy: 0.6429\n",
      "Epoch 3/50\n",
      "2/2 [==============================] - 1s 285ms/step - loss: 1.0206 - accuracy: 0.6759 - val_loss: 1.0197 - val_accuracy: 0.6429\n",
      "Epoch 4/50\n",
      "2/2 [==============================] - 1s 281ms/step - loss: 0.9155 - accuracy: 0.6759 - val_loss: 0.9661 - val_accuracy: 0.6429\n",
      "Epoch 5/50\n",
      "2/2 [==============================] - 1s 276ms/step - loss: 0.9237 - accuracy: 0.6759 - val_loss: 1.0773 - val_accuracy: 0.6429\n",
      "Epoch 6/50\n",
      "2/2 [==============================] - 1s 272ms/step - loss: 0.8239 - accuracy: 0.6759 - val_loss: 0.9571 - val_accuracy: 0.6429\n",
      "Epoch 7/50\n",
      "2/2 [==============================] - 1s 282ms/step - loss: 0.7808 - accuracy: 0.6759 - val_loss: 0.9675 - val_accuracy: 0.6429\n",
      "Epoch 8/50\n",
      "2/2 [==============================] - 1s 281ms/step - loss: 0.7950 - accuracy: 0.6759 - val_loss: 0.9671 - val_accuracy: 0.6429\n",
      "Epoch 9/50\n",
      "2/2 [==============================] - 1s 273ms/step - loss: 0.7771 - accuracy: 0.6759 - val_loss: 0.9598 - val_accuracy: 0.6429\n",
      "Epoch 10/50\n",
      "2/2 [==============================] - 1s 278ms/step - loss: 0.7377 - accuracy: 0.6759 - val_loss: 0.9520 - val_accuracy: 0.6429\n",
      "Epoch 11/50\n",
      "2/2 [==============================] - 1s 287ms/step - loss: 0.6939 - accuracy: 0.6759 - val_loss: 0.9550 - val_accuracy: 0.6429\n",
      "Epoch 12/50\n",
      "2/2 [==============================] - 1s 306ms/step - loss: 0.6424 - accuracy: 0.6759 - val_loss: 0.9795 - val_accuracy: 0.6429\n",
      "Epoch 13/50\n",
      "2/2 [==============================] - 1s 315ms/step - loss: 0.6150 - accuracy: 0.6759 - val_loss: 1.0137 - val_accuracy: 0.6429\n",
      "Epoch 14/50\n",
      "2/2 [==============================] - 1s 299ms/step - loss: 0.5809 - accuracy: 0.6759 - val_loss: 1.0224 - val_accuracy: 0.6429\n",
      "Epoch 15/50\n",
      "2/2 [==============================] - 1s 283ms/step - loss: 0.5291 - accuracy: 0.7315 - val_loss: 1.0228 - val_accuracy: 0.6429\n",
      "Epoch 16/50\n",
      "2/2 [==============================] - 1s 279ms/step - loss: 0.4739 - accuracy: 0.8333 - val_loss: 1.0333 - val_accuracy: 0.6429\n",
      "Epoch 17/50\n",
      "2/2 [==============================] - 1s 286ms/step - loss: 0.4323 - accuracy: 0.8704 - val_loss: 1.0526 - val_accuracy: 0.6429\n",
      "Epoch 18/50\n",
      "2/2 [==============================] - 1s 278ms/step - loss: 0.3863 - accuracy: 0.9259 - val_loss: 1.0876 - val_accuracy: 0.6429\n",
      "Epoch 19/50\n",
      "2/2 [==============================] - 1s 309ms/step - loss: 0.3362 - accuracy: 0.9352 - val_loss: 1.1393 - val_accuracy: 0.6429\n",
      "Epoch 20/50\n",
      "2/2 [==============================] - 1s 280ms/step - loss: 0.2872 - accuracy: 0.9444 - val_loss: 1.1780 - val_accuracy: 0.6071\n",
      "Epoch 21/50\n",
      "2/2 [==============================] - 0s 278ms/step - loss: 0.2398 - accuracy: 0.9444 - val_loss: 1.1797 - val_accuracy: 0.6429\n",
      "Epoch 22/50\n",
      "2/2 [==============================] - 1s 275ms/step - loss: 0.2099 - accuracy: 0.9630 - val_loss: 1.2321 - val_accuracy: 0.6071\n",
      "Epoch 23/50\n",
      "2/2 [==============================] - 1s 285ms/step - loss: 0.1790 - accuracy: 0.9815 - val_loss: 1.3487 - val_accuracy: 0.5714\n",
      "Epoch 24/50\n",
      "2/2 [==============================] - 1s 289ms/step - loss: 0.1510 - accuracy: 0.9907 - val_loss: 1.4503 - val_accuracy: 0.5000\n",
      "Epoch 25/50\n",
      "2/2 [==============================] - 1s 290ms/step - loss: 0.1288 - accuracy: 0.9907 - val_loss: 1.5660 - val_accuracy: 0.5357\n",
      "Epoch 26/50\n",
      "2/2 [==============================] - 0s 280ms/step - loss: 0.1084 - accuracy: 0.9907 - val_loss: 1.6876 - val_accuracy: 0.5357\n",
      "Epoch 27/50\n",
      "2/2 [==============================] - 1s 287ms/step - loss: 0.0878 - accuracy: 0.9907 - val_loss: 1.8690 - val_accuracy: 0.4286\n",
      "Epoch 28/50\n",
      "2/2 [==============================] - 1s 275ms/step - loss: 0.0733 - accuracy: 0.9907 - val_loss: 1.9806 - val_accuracy: 0.4286\n",
      "Epoch 29/50\n",
      "2/2 [==============================] - 1s 276ms/step - loss: 0.0586 - accuracy: 0.9907 - val_loss: 1.9825 - val_accuracy: 0.4286\n",
      "Epoch 30/50\n",
      "2/2 [==============================] - 1s 282ms/step - loss: 0.0478 - accuracy: 0.9907 - val_loss: 1.9009 - val_accuracy: 0.5357\n",
      "Epoch 31/50\n",
      "2/2 [==============================] - 1s 262ms/step - loss: 0.0425 - accuracy: 0.9907 - val_loss: 2.2502 - val_accuracy: 0.4286\n",
      "Epoch 32/50\n",
      "2/2 [==============================] - 1s 285ms/step - loss: 0.0538 - accuracy: 0.9815 - val_loss: 2.1702 - val_accuracy: 0.4286\n",
      "Epoch 33/50\n",
      "2/2 [==============================] - 1s 285ms/step - loss: 0.0304 - accuracy: 0.9907 - val_loss: 1.8859 - val_accuracy: 0.6071\n",
      "Epoch 34/50\n",
      "2/2 [==============================] - 1s 267ms/step - loss: 0.0391 - accuracy: 0.9907 - val_loss: 1.8285 - val_accuracy: 0.6071\n",
      "Epoch 35/50\n",
      "2/2 [==============================] - 1s 281ms/step - loss: 0.0219 - accuracy: 1.0000 - val_loss: 1.8456 - val_accuracy: 0.5714\n",
      "Epoch 36/50\n",
      "2/2 [==============================] - 1s 276ms/step - loss: 0.0200 - accuracy: 1.0000 - val_loss: 1.8797 - val_accuracy: 0.5000\n",
      "Epoch 37/50\n",
      "2/2 [==============================] - 1s 289ms/step - loss: 0.0202 - accuracy: 1.0000 - val_loss: 1.8865 - val_accuracy: 0.5000\n",
      "Epoch 38/50\n",
      "2/2 [==============================] - 1s 287ms/step - loss: 0.0176 - accuracy: 1.0000 - val_loss: 1.8776 - val_accuracy: 0.5000\n",
      "Epoch 39/50\n",
      "2/2 [==============================] - 1s 290ms/step - loss: 0.0144 - accuracy: 1.0000 - val_loss: 1.8663 - val_accuracy: 0.5000\n",
      "Epoch 40/50\n",
      "2/2 [==============================] - 1s 279ms/step - loss: 0.0121 - accuracy: 1.0000 - val_loss: 1.8548 - val_accuracy: 0.5357\n",
      "Epoch 41/50\n",
      "2/2 [==============================] - 1s 279ms/step - loss: 0.0104 - accuracy: 1.0000 - val_loss: 1.8487 - val_accuracy: 0.5000\n",
      "Epoch 42/50\n",
      "2/2 [==============================] - 1s 285ms/step - loss: 0.0095 - accuracy: 1.0000 - val_loss: 1.8530 - val_accuracy: 0.5357\n",
      "Epoch 43/50\n",
      "2/2 [==============================] - 1s 291ms/step - loss: 0.0086 - accuracy: 1.0000 - val_loss: 1.8625 - val_accuracy: 0.5714\n",
      "Epoch 44/50\n",
      "2/2 [==============================] - 1s 272ms/step - loss: 0.0077 - accuracy: 1.0000 - val_loss: 1.8769 - val_accuracy: 0.5714\n",
      "Epoch 45/50\n",
      "2/2 [==============================] - 1s 277ms/step - loss: 0.0068 - accuracy: 1.0000 - val_loss: 1.8960 - val_accuracy: 0.5714\n",
      "Epoch 46/50\n",
      "2/2 [==============================] - 1s 282ms/step - loss: 0.0064 - accuracy: 1.0000 - val_loss: 1.9179 - val_accuracy: 0.5714\n",
      "Epoch 47/50\n",
      "2/2 [==============================] - 1s 288ms/step - loss: 0.0058 - accuracy: 1.0000 - val_loss: 1.9432 - val_accuracy: 0.5714\n",
      "Epoch 48/50\n",
      "2/2 [==============================] - 1s 283ms/step - loss: 0.0053 - accuracy: 1.0000 - val_loss: 1.9697 - val_accuracy: 0.5714\n",
      "Epoch 49/50\n",
      "2/2 [==============================] - 1s 302ms/step - loss: 0.0048 - accuracy: 1.0000 - val_loss: 1.9958 - val_accuracy: 0.5714\n",
      "Epoch 50/50\n",
      "2/2 [==============================] - 1s 322ms/step - loss: 0.0044 - accuracy: 1.0000 - val_loss: 2.0207 - val_accuracy: 0.5714\n"
     ]
    },
    {
     "data": {
      "text/plain": [
       "<keras.src.callbacks.History at 0x2929414e8d0>"
      ]
     },
     "execution_count": 77,
     "metadata": {},
     "output_type": "execute_result"
    }
   ],
   "source": [
    "# Compile the model\n",
    "model.compile(optimizer='adam', loss='sparse_categorical_crossentropy', metrics=['accuracy'])\n",
    "\n",
    "# Train the model\n",
    "model.fit(X_train, Y_train, epochs=50, batch_size=64, validation_split=0.2)"
   ]
  },
  {
   "cell_type": "code",
   "execution_count": 78,
   "metadata": {},
   "outputs": [
    {
     "name": "stdout",
     "output_type": "stream",
     "text": [
      "2/2 [==============================] - 0s 22ms/step - loss: 1.3350 - accuracy: 0.7353\n",
      "Test Loss: 1.3350199460983276\n",
      "Test Accuracy: 0.7352941036224365\n"
     ]
    }
   ],
   "source": [
    "loss, accuracy = model.evaluate(X_test, Y_test)\n",
    "print(\"Test Loss:\", loss)\n",
    "print(\"Test Accuracy:\", accuracy)"
   ]
  },
  {
   "cell_type": "code",
   "execution_count": 79,
   "metadata": {},
   "outputs": [],
   "source": [
    "import pickle\n",
    "with open('tst.pkl','wb') as file:\n",
    "    pickle.dump(model,file)\n"
   ]
  },
  {
   "cell_type": "code",
   "execution_count": 80,
   "metadata": {},
   "outputs": [],
   "source": [
    "# Load the model from the file\n",
    "with open('tst.pkl', 'rb') as f:\n",
    "    loaded_model = pickle.load(f)\n"
   ]
  },
  {
   "cell_type": "code",
   "execution_count": 82,
   "metadata": {},
   "outputs": [
    {
     "name": "stdout",
     "output_type": "stream",
     "text": [
      "2/2 [==============================] - 1s 22ms/step\n"
     ]
    }
   ],
   "source": [
    "\n",
    "# Now you can use the loaded model to make predictions\n",
    "predictions = loaded_model.predict(X_test)\n"
   ]
  },
  {
   "cell_type": "code",
   "execution_count": 83,
   "metadata": {},
   "outputs": [
    {
     "data": {
      "text/plain": [
       "array([[4.3736402e-02, 1.8158861e-04, 9.5608199e-01],\n",
       "       [8.4866352e-02, 1.8437330e-02, 8.9669627e-01],\n",
       "       [2.8340626e-03, 6.7679641e-05, 9.9709833e-01],\n",
       "       [2.6578784e-02, 2.2072517e-03, 9.7121394e-01],\n",
       "       [3.7118867e-01, 8.1196986e-04, 6.2799937e-01],\n",
       "       [6.5286040e-02, 1.7040250e-03, 9.3300992e-01],\n",
       "       [2.7129273e-03, 1.3536982e-04, 9.9715173e-01],\n",
       "       [1.6720043e-01, 6.6683829e-02, 7.6611573e-01],\n",
       "       [4.3052308e-02, 2.6979356e-04, 9.5667785e-01],\n",
       "       [1.5769757e-01, 2.1208241e-03, 8.4018165e-01],\n",
       "       [6.0369998e-02, 6.3638360e-04, 9.3899357e-01],\n",
       "       [2.7175969e-02, 4.9344980e-04, 9.7233057e-01],\n",
       "       [1.4738861e-03, 6.0450304e-05, 9.9846566e-01],\n",
       "       [4.7555864e-01, 5.5051759e-02, 4.6938968e-01],\n",
       "       [1.6688037e-01, 3.1428836e-02, 8.0169082e-01],\n",
       "       [3.0853349e-01, 2.0217109e-03, 6.8944478e-01],\n",
       "       [5.5130482e-01, 1.1794944e-02, 4.3690026e-01],\n",
       "       [2.8562060e-02, 1.5384116e-03, 9.6989959e-01],\n",
       "       [6.4802444e-01, 1.4043958e-03, 3.5057119e-01],\n",
       "       [2.7550220e-01, 4.4421058e-02, 6.8007678e-01],\n",
       "       [1.4462975e-01, 9.9184036e-02, 7.5618619e-01],\n",
       "       [2.6503535e-02, 1.6855169e-04, 9.7332788e-01],\n",
       "       [2.1839689e-02, 1.6919551e-04, 9.7799110e-01],\n",
       "       [1.3191323e-01, 3.6043450e-02, 8.3204335e-01],\n",
       "       [2.3444996e-03, 4.7974947e-05, 9.9760747e-01],\n",
       "       [5.2111134e-02, 2.2485401e-04, 9.4766402e-01],\n",
       "       [6.4835949e-03, 5.7520021e-05, 9.9345893e-01],\n",
       "       [2.1638922e-01, 3.2061800e-01, 4.6299279e-01],\n",
       "       [1.6632115e-02, 1.4983879e-04, 9.8321807e-01],\n",
       "       [5.7921819e-03, 1.5313951e-04, 9.9405473e-01],\n",
       "       [2.1085162e-03, 9.4831259e-05, 9.9779665e-01],\n",
       "       [2.5830399e-03, 5.9383317e-05, 9.9735755e-01],\n",
       "       [2.8872078e-03, 9.5708616e-05, 9.9701715e-01],\n",
       "       [1.1649382e-02, 1.0357678e-04, 9.8824710e-01]], dtype=float32)"
      ]
     },
     "execution_count": 83,
     "metadata": {},
     "output_type": "execute_result"
    }
   ],
   "source": [
    "predictions"
   ]
  },
  {
   "cell_type": "code",
   "execution_count": null,
   "metadata": {},
   "outputs": [],
   "source": []
  }
 ],
 "metadata": {
  "kernelspec": {
   "display_name": "Python 3",
   "language": "python",
   "name": "python3"
  },
  "language_info": {
   "codemirror_mode": {
    "name": "ipython",
    "version": 3
   },
   "file_extension": ".py",
   "mimetype": "text/x-python",
   "name": "python",
   "nbconvert_exporter": "python",
   "pygments_lexer": "ipython3",
   "version": "3.11.8"
  }
 },
 "nbformat": 4,
 "nbformat_minor": 2
}
